{
 "cells": [
  {
   "cell_type": "markdown",
   "metadata": {},
   "source": [
    "## Extraction of images from CZI files and selection of best layers"
   ]
  },
  {
   "cell_type": "code",
   "execution_count": 4,
   "metadata": {},
   "outputs": [
    {
     "name": "stdout",
     "output_type": "stream",
     "text": [
      "Computing LBP for E:\\Akita\\1 Traditional Area Fraction Vessel Density\\FG12_NG004_randomizer\\Original Stack czi\\Akita_12_OD_25x.czi\n"
     ]
    }
   ],
   "source": [
    "from skimage import exposure\n",
    "import numpy as np\n",
    "import czifile, tifffile\n",
    "import os\n",
    "from skimage import feature, color, io\n",
    "import matplotlib.pyplot as plt\n",
    "\n",
    "def process_images(image_dir, output_dir):\n",
    "    # Ensure the output directory exists\n",
    "    os.makedirs(output_dir, exist_ok=True)\n",
    "    \n",
    "    # List all CZI files in the directory\n",
    "    image_paths = [os.path.join(image_dir, filename) for filename in os.listdir(image_dir) if filename.endswith('.czi')]\n",
    "\n",
    "    # Define the function to calculate LBP entropy\n",
    "    def calculate_lbp(image, points=24, radius=8):\n",
    "        lbp = feature.local_binary_pattern(image, points, radius, method=\"uniform\")\n",
    "        (hist, _) = np.histogram(lbp.ravel(), bins=np.arange(0, points + 3), range=(0, points + 2))\n",
    "        hist = hist.astype(\"float\")\n",
    "        hist /= (hist.sum() + 1e-7)\n",
    "        return -1 * (hist * np.log2(hist + 1e-7)).sum()\n",
    "\n",
    "    for image_file in image_paths:\n",
    "        lbp_entropies = []\n",
    "\n",
    "        try:\n",
    "            print(f\"Computing LBP for {image_file}\")\n",
    "            with czifile.CziFile(image_file) as czi:\n",
    "                image_array = czi.asarray()\n",
    "\n",
    "            for stack_index in range(image_array.shape[4]):\n",
    "                stack = image_array[0, 0, 0, 0, stack_index, :, :, 0]\n",
    "                contrast_img = exposure.rescale_intensity(stack, in_range='image')\n",
    "                contrast_img = exposure.equalize_hist(contrast_img)\n",
    "                lbp_entropy = calculate_lbp(contrast_img)\n",
    "                lbp_entropies.append((stack_index, lbp_entropy, contrast_img))\n",
    "                \n",
    "        except Exception as e:\n",
    "            print(f\"Error processing file {image_file}: {e}\")\n",
    "\n",
    "        lbp_entropies.sort(key=lambda x: x[1], reverse=True)\n",
    "\n",
    "        try:\n",
    "            top_stack_index, _, top_stack = lbp_entropies[0]\n",
    "            filename = os.path.basename(image_file).replace(\".czi\", f\"_stack_{top_stack_index}.tif\")\n",
    "            tifffile.imsave(os.path.join(output_dir, filename), top_stack)\n",
    "            print(f\"Saved {filename} to {output_dir}\")\n",
    "\n",
    "        except Exception as e:\n",
    "            print(f\"Error saving top stack: {e}\")\n",
    "\n",
    "# Define the directories that contain your images\n",
    "image_dirs = [r'E:\\Akita\\1 Traditional Area Fraction Vessel Density\\FG12_NG004_randomizer\\Original Stack czi',\n",
    "              r'E:\\Akita\\1 Traditional Area Fraction Vessel Density\\PBS_11C7_randamizer\\Original Stack Czi']\n",
    "output_dirs = [r'data/FG12', r'data/PBS']\n",
    "\n",
    "# Process images for each directory\n",
    "for image_dir, output_dir in zip(image_dirs, output_dirs):\n",
    "    process_images(image_dir, output_dir)\n"
   ]
  },
  {
   "cell_type": "code",
   "execution_count": 3,
   "metadata": {},
   "outputs": [
    {
     "name": "stdout",
     "output_type": "stream",
     "text": [
      "Computing LBP for E:\\Akita\\1 Traditional Area Fraction Vessel Density\\FG12_NG004_randomizer\\Original Stack czi\\Akita_12_OD_25x.czi\n",
      "Stack with highest LBP entropy: 7\n"
     ]
    },
    {
     "name": "stderr",
     "output_type": "stream",
     "text": [
      "C:\\Users\\alois\\AppData\\Local\\Temp\\ipykernel_12772\\2641700584.py:61: DeprecationWarning: <tifffile.imsave> is deprecated. Use tifffile.imwrite\n",
      "  tifffile.imsave(f'data/FG12/{filename}', top_stack)\n"
     ]
    },
    {
     "name": "stdout",
     "output_type": "stream",
     "text": [
      "Computing LBP for E:\\Akita\\1 Traditional Area Fraction Vessel Density\\FG12_NG004_randomizer\\Original Stack czi\\Akita_12_OE_25x.czi\n",
      "Stack with highest LBP entropy: 6\n",
      "Computing LBP for E:\\Akita\\1 Traditional Area Fraction Vessel Density\\FG12_NG004_randomizer\\Original Stack czi\\Akita_14_OD_25x.czi\n"
     ]
    },
    {
     "ename": "KeyboardInterrupt",
     "evalue": "",
     "output_type": "error",
     "traceback": [
      "\u001b[1;31m---------------------------------------------------------------------------\u001b[0m",
      "\u001b[1;31mKeyboardInterrupt\u001b[0m                         Traceback (most recent call last)",
      "Cell \u001b[1;32mIn[3], line 41\u001b[0m\n\u001b[0;32m     38\u001b[0m contrast_img \u001b[38;5;241m=\u001b[39m exposure\u001b[38;5;241m.\u001b[39mequalize_hist(contrast_img)\n\u001b[0;32m     40\u001b[0m \u001b[38;5;66;03m# Calculate the LBP entropy\u001b[39;00m\n\u001b[1;32m---> 41\u001b[0m lbp_entropy \u001b[38;5;241m=\u001b[39m calculate_lbp(contrast_img)\n\u001b[0;32m     43\u001b[0m \u001b[38;5;66;03m# Append the LBP entropy to the list\u001b[39;00m\n\u001b[0;32m     44\u001b[0m lbp_entropies\u001b[38;5;241m.\u001b[39mappend((stack_index, lbp_entropy, contrast_img))\n",
      "Cell \u001b[1;32mIn[3], line 14\u001b[0m, in \u001b[0;36mcalculate_lbp\u001b[1;34m(image, points, radius)\u001b[0m\n\u001b[0;32m     13\u001b[0m \u001b[38;5;28;01mdef\u001b[39;00m \u001b[38;5;21mcalculate_lbp\u001b[39m(image, points\u001b[38;5;241m=\u001b[39m\u001b[38;5;241m24\u001b[39m, radius\u001b[38;5;241m=\u001b[39m\u001b[38;5;241m8\u001b[39m):\n\u001b[1;32m---> 14\u001b[0m     lbp \u001b[38;5;241m=\u001b[39m feature\u001b[38;5;241m.\u001b[39mlocal_binary_pattern(image, points, radius, method\u001b[38;5;241m=\u001b[39m\u001b[38;5;124m\"\u001b[39m\u001b[38;5;124muniform\u001b[39m\u001b[38;5;124m\"\u001b[39m)\n\u001b[0;32m     15\u001b[0m     (hist, _) \u001b[38;5;241m=\u001b[39m np\u001b[38;5;241m.\u001b[39mhistogram(lbp\u001b[38;5;241m.\u001b[39mravel(), bins\u001b[38;5;241m=\u001b[39mnp\u001b[38;5;241m.\u001b[39marange(\u001b[38;5;241m0\u001b[39m, points \u001b[38;5;241m+\u001b[39m \u001b[38;5;241m3\u001b[39m), \u001b[38;5;28mrange\u001b[39m\u001b[38;5;241m=\u001b[39m(\u001b[38;5;241m0\u001b[39m, points \u001b[38;5;241m+\u001b[39m \u001b[38;5;241m2\u001b[39m))\n\u001b[0;32m     16\u001b[0m     hist \u001b[38;5;241m=\u001b[39m hist\u001b[38;5;241m.\u001b[39mastype(\u001b[38;5;124m\"\u001b[39m\u001b[38;5;124mfloat\u001b[39m\u001b[38;5;124m\"\u001b[39m)\n",
      "File \u001b[1;32mc:\\Users\\alois\\anaconda3\\Lib\\site-packages\\skimage\\feature\\texture.py:359\u001b[0m, in \u001b[0;36mlocal_binary_pattern\u001b[1;34m(image, P, R, method)\u001b[0m\n\u001b[0;32m    353\u001b[0m     warnings\u001b[38;5;241m.\u001b[39mwarn(\n\u001b[0;32m    354\u001b[0m         \u001b[38;5;124m\"\u001b[39m\u001b[38;5;124mApplying `local_binary_pattern` to floating-point images may \u001b[39m\u001b[38;5;124m\"\u001b[39m\n\u001b[0;32m    355\u001b[0m         \u001b[38;5;124m\"\u001b[39m\u001b[38;5;124mgive unexpected results when small numerical differences between \u001b[39m\u001b[38;5;124m\"\u001b[39m\n\u001b[0;32m    356\u001b[0m         \u001b[38;5;124m\"\u001b[39m\u001b[38;5;124madjacent pixels are present. It is recommended to use this \u001b[39m\u001b[38;5;124m\"\u001b[39m\n\u001b[0;32m    357\u001b[0m         \u001b[38;5;124m\"\u001b[39m\u001b[38;5;124mfunction with images of integer dtype.\u001b[39m\u001b[38;5;124m\"\u001b[39m)\n\u001b[0;32m    358\u001b[0m image \u001b[38;5;241m=\u001b[39m np\u001b[38;5;241m.\u001b[39mascontiguousarray(image, dtype\u001b[38;5;241m=\u001b[39mnp\u001b[38;5;241m.\u001b[39mfloat64)\n\u001b[1;32m--> 359\u001b[0m output \u001b[38;5;241m=\u001b[39m _local_binary_pattern(image, P, R, methods[method\u001b[38;5;241m.\u001b[39mlower()])\n\u001b[0;32m    360\u001b[0m \u001b[38;5;28;01mreturn\u001b[39;00m output\n",
      "\u001b[1;31mKeyboardInterrupt\u001b[0m: "
     ]
    }
   ],
   "source": [
    "\"\"\"\n",
    "from skimage import exposure\n",
    "import numpy as np\n",
    "import czifile, tifffile\n",
    "import os\n",
    "from skimage import feature, color, io\n",
    "import matplotlib.pyplot as plt\n",
    "\n",
    "# Define the directory that contains your images\n",
    "image_dir = r'E:\\Akita\\1 Traditional Area Fraction Vessel Density\\FG12_NG004_randomizer\\Original Stack czi'\n",
    "image_paths = [os.path.join(image_dir, filename) for filename in os.listdir(image_dir) if filename.endswith('.czi')]\n",
    "\n",
    "# Define the function to calculate LBP entropy\n",
    "def calculate_lbp(image, points=24, radius=8):\n",
    "    lbp = feature.local_binary_pattern(image, points, radius, method=\"uniform\")\n",
    "    (hist, _) = np.histogram(lbp.ravel(), bins=np.arange(0, points + 3), range=(0, points + 2))\n",
    "    hist = hist.astype(\"float\")\n",
    "    hist /= (hist.sum() + 1e-7)\n",
    "    return -1 * (hist * np.log2(hist + 1e-7)).sum()\n",
    "\n",
    "# Iterate over all image files\n",
    "for image_file in image_paths:\n",
    "    # Initialize a list to store the LBP entropies\n",
    "    lbp_entropies = []\n",
    "\n",
    "    try:\n",
    "        print(f\"Computing LBP for {image_file}\")  # Print the image file being processed\n",
    "        # Process the CZI file\n",
    "        with czifile.CziFile(image_file) as czi:\n",
    "            image_array = czi.asarray()\n",
    "\n",
    "        # Iterate over the stacks, given your image array shape (1, 1, 1, 1, 18, 8806, 8346, 1)\n",
    "        for stack_index in range(image_array.shape[4]):\n",
    "            # Extract the stack\n",
    "            stack = image_array[0, 0, 0, 0, stack_index, :, :, 0]\n",
    "\n",
    "            # Enhance the stack\n",
    "            contrast_img = exposure.rescale_intensity(stack, in_range='image')\n",
    "            contrast_img = exposure.equalize_hist(contrast_img)\n",
    "\n",
    "            # Calculate the LBP entropy\n",
    "            lbp_entropy = calculate_lbp(contrast_img)\n",
    "\n",
    "            # Append the LBP entropy to the list\n",
    "            lbp_entropies.append((stack_index, lbp_entropy, contrast_img))\n",
    "            \n",
    "    except Exception as e:\n",
    "        print(f\"Error processing file {image_file}: {e}\")\n",
    "\n",
    "    # Sort the images by their LBP entropy in descending order\n",
    "    lbp_entropies.sort(key=lambda x: x[1], reverse=True)\n",
    "\n",
    "    try:\n",
    "        top_stack_index, _, top_stack = lbp_entropies[0]\n",
    "        print(f\"Stack with highest LBP entropy: {top_stack_index}\")  # Print the stack with the highest LBP entropy\n",
    "\n",
    "        # Modify the filename to the desired format\n",
    "        filename = os.path.basename(image_file).replace(\".czi\", \"\")\n",
    "        filename = filename.rsplit('_', 1)[0] + f\"_stack_{top_stack_index}.tif\"\n",
    "\n",
    "        # Save the top stack\n",
    "        tifffile.imsave(f'data/FG12/{filename}', top_stack)\n",
    "\n",
    "    except Exception as e:\n",
    "        print(f\"Error saving top stack: {e}\")\n",
    "\"\"\"\n"
   ]
  }
 ],
 "metadata": {
  "kernelspec": {
   "display_name": "base",
   "language": "python",
   "name": "python3"
  },
  "language_info": {
   "codemirror_mode": {
    "name": "ipython",
    "version": 3
   },
   "file_extension": ".py",
   "mimetype": "text/x-python",
   "name": "python",
   "nbconvert_exporter": "python",
   "pygments_lexer": "ipython3",
   "version": "3.11.7"
  }
 },
 "nbformat": 4,
 "nbformat_minor": 2
}
