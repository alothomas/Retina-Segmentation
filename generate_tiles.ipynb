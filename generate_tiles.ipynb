{
 "cells": [
  {
   "cell_type": "markdown",
   "metadata": {},
   "source": [
    "## Tiling of full images into overlapping patches"
   ]
  },
  {
   "cell_type": "code",
   "execution_count": 1,
   "metadata": {},
   "outputs": [],
   "source": [
    "import numpy as np\n",
    "from PIL import Image\n",
    "import random\n",
    "import matplotlib.pyplot as plt\n",
    "import os\n",
    "from tifffile import tifffile\n",
    "\n",
    "\n",
    "\n",
    "def extract_overlapping_patches(image, patch_size=600, overlap=0.3):\n",
    "    \"\"\"\n",
    "    Extracts overlapping patches of a given size from an image.\n",
    "    \n",
    "    :param image: Numpy array of the image.\n",
    "    :param patch_size: The size of the square patches.\n",
    "    :param overlap: Fraction of the patch size to overlap (e.g., 0.5 for 50% overlap).\n",
    "    :return: List of image patches.\n",
    "    \"\"\"\n",
    "    stride = int(patch_size * (1 - overlap))\n",
    "    patches = []\n",
    "    \n",
    "    for y in range(0, image.shape[0] - patch_size + 1, stride):\n",
    "        for x in range(0, image.shape[1] - patch_size + 1, stride):\n",
    "            patch = image[y:y+patch_size, x:x+patch_size]\n",
    "            patches.append(patch)\n",
    "            \n",
    "    return patches\n"
   ]
  },
  {
   "cell_type": "code",
   "execution_count": null,
   "metadata": {},
   "outputs": [],
   "source": [
    "from skimage.restoration import denoise_nl_means, estimate_sigma\n",
    "import numpy as np\n",
    "\n",
    "def denoise_patch(patch):\n",
    "    # Assuming patch is a 2D numpy array (grayscale). For RGB, add the channel dimension as needed.\n",
    "    sigma_est = np.mean(estimate_sigma(patch))\n",
    "    patch_kw = dict(patch_size=5,      # 5x5 patches\n",
    "                    patch_distance=6)  # Search up to 6 pixels away for similar patches\n",
    "    denoised_patch = denoise_nl_means(patch, h=1.15 * sigma_est, fast_mode=True, **patch_kw)\n",
    "    return denoised_patch\n"
   ]
  },
  {
   "cell_type": "code",
   "execution_count": 2,
   "metadata": {},
   "outputs": [],
   "source": [
    "import numpy as np\n",
    "\n",
    "def normalize_patch(patch):\n",
    "    \"\"\"Normalize image patch to the range [0, 1].\"\"\"\n",
    "    patch_min = patch.min()\n",
    "    patch_max = patch.max()\n",
    "    # Check if all pixel values are the same\n",
    "    if patch_max == patch_min:\n",
    "\n",
    "        normalized_patch = np.zeros_like(patch)\n",
    "    else:\n",
    "        normalized_patch = (patch - patch_min) / (patch_max - patch_min)\n",
    "    return normalized_patch\n",
    "\n",
    "\n"
   ]
  },
  {
   "cell_type": "code",
   "execution_count": 6,
   "metadata": {},
   "outputs": [],
   "source": [
    "import os\n",
    "#denoised_patches = [denoise_patch(patch) for patch in patches]\n",
    "\n",
    "image_filenames = ['data\\PBS\\Akita_22_OE_25x_stack_6.tif', 'data\\PBS\\Akita_22_OD_25x_stack_8.tif', 'data\\FG12\\Akita_23_OD_25x_stack_4.tif', 'data\\FG12\\Akita_2_OE_25x_stack_7.tif']\n",
    "\n",
    "patch_size=512\n",
    "overlap=0.3\n",
    "\n",
    "\n",
    "for filename in image_filenames:\n",
    "    image = tifffile.imread(filename)  \n",
    "    patches = extract_overlapping_patches(image, patch_size, overlap)  \n",
    "    normalized_patches = [normalize_patch(patch) for patch in patches]  \n",
    "\n",
    "    # Extract the base filename without extension\n",
    "    base_filename = os.path.basename(filename).split('.')[0]\n",
    "\n",
    "    for i, patch in enumerate(normalized_patches):\n",
    "        patch_image = Image.fromarray((patch * 255).astype(np.uint8))  \n",
    "        # Save the image with the desired filename\n",
    "        patch_image.save(f'data patch/{base_filename}_patch_{i}.png', 'PNG')\n",
    "\n"
   ]
  },
  {
   "cell_type": "markdown",
   "metadata": {},
   "source": [
    "# Annotation selection"
   ]
  },
  {
   "cell_type": "code",
   "execution_count": 3,
   "metadata": {},
   "outputs": [
    {
     "name": "stdout",
     "output_type": "stream",
     "text": [
      "Selected 500 patches have been copied to data patch/annotations.\n"
     ]
    }
   ],
   "source": [
    "import os\n",
    "import random\n",
    "import shutil\n",
    "\n",
    "def select_random_patches(source_folder, target_folder, num_patches):\n",
    "    \"\"\"\n",
    "    Randomly selects a subset of patches for annotation.\n",
    "\n",
    "    :param source_folder: The directory where all patches are stored.\n",
    "    :param target_folder: The directory to store the selected patches for annotation.\n",
    "    :param num_patches: The number of patches to randomly select.\n",
    "    \"\"\"\n",
    "    os.makedirs(target_folder, exist_ok=True)\n",
    "    \n",
    "    all_patches = [f for f in os.listdir(source_folder) if os.path.isfile(os.path.join(source_folder, f))]\n",
    "    \n",
    "    # Randomly select 'num_patches' patches\n",
    "    selected_patches = random.sample(all_patches, num_patches)\n",
    "    \n",
    "    # Copy the selected patches to the target folder\n",
    "    for patch in selected_patches:\n",
    "        shutil.copy(os.path.join(source_folder, patch), os.path.join(target_folder, patch))\n",
    "        \n",
    "    print(f\"Selected {num_patches} patches have been copied to {target_folder}.\")\n",
    "\n",
    "source_folder = 'data patch'  \n",
    "target_folder = 'data patch/annotations'  \n",
    "num_patches = 500 \n",
    "\n",
    "select_random_patches(source_folder, target_folder, num_patches)"
   ]
  }
 ],
 "metadata": {
  "kernelspec": {
   "display_name": "base",
   "language": "python",
   "name": "python3"
  },
  "language_info": {
   "codemirror_mode": {
    "name": "ipython",
    "version": 3
   },
   "file_extension": ".py",
   "mimetype": "text/x-python",
   "name": "python",
   "nbconvert_exporter": "python",
   "pygments_lexer": "ipython3",
   "version": "3.11.7"
  }
 },
 "nbformat": 4,
 "nbformat_minor": 2
}
